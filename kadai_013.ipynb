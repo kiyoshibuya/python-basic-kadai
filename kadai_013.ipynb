{
  "nbformat": 4,
  "nbformat_minor": 0,
  "metadata": {
    "colab": {
      "provenance": [],
      "authorship_tag": "ABX9TyPyEweyzz5StCWJce7YCcO8",
      "include_colab_link": true
    },
    "kernelspec": {
      "name": "python3",
      "display_name": "Python 3"
    },
    "language_info": {
      "name": "python"
    }
  },
  "cells": [
    {
      "cell_type": "markdown",
      "metadata": {
        "id": "view-in-github",
        "colab_type": "text"
      },
      "source": [
        "<a href=\"https://colab.research.google.com/github/kiyoshibuya/python-basic-kadai/blob/main/kadai_013.ipynb\" target=\"_parent\"><img src=\"https://colab.research.google.com/assets/colab-badge.svg\" alt=\"Open In Colab\"/></a>"
      ]
    },
    {
      "cell_type": "code",
      "execution_count": 3,
      "metadata": {
        "id": "0Oj_Ka72AlzA",
        "colab": {
          "base_uri": "https://localhost:8080/"
        },
        "outputId": "beed2164-089f-49b8-f889-302105a1c992"
      },
      "outputs": [
        {
          "output_type": "stream",
          "name": "stdout",
          "text": [
            "商品の合計金額は: 1100.0 円です\n"
          ]
        }
      ],
      "source": [
        "#商品を購入して、消費税を加えた計算結果を返す関数を記述する。\n",
        "def calculate_total_price(product_price, tax_rate=0.1):\n",
        "    total_price = product_price * (1 + tax_rate)\n",
        "    return total_price\n",
        "# 商品の金額と消費税を設定して関数を呼び出す\n",
        "product_price = 1000  # 商品の金額\n",
        "tax_rate = 0.1  # 消費税率（10%）\n",
        "\n",
        "result = calculate_total_price(product_price, tax_rate)\n",
        "print(f\"商品の合計金額は: {result} 円です\")"
      ]
    }
  ]
}