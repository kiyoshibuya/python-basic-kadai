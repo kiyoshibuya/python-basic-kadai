{
  "nbformat": 4,
  "nbformat_minor": 0,
  "metadata": {
    "colab": {
      "provenance": [],
      "authorship_tag": "ABX9TyOBCTxH+RFCRXE9ItjiTwEf",
      "include_colab_link": true
    },
    "kernelspec": {
      "name": "python3",
      "display_name": "Python 3"
    },
    "language_info": {
      "name": "python"
    }
  },
  "cells": [
    {
      "cell_type": "markdown",
      "metadata": {
        "id": "view-in-github",
        "colab_type": "text"
      },
      "source": [
        "<a href=\"https://colab.research.google.com/github/kiyoshibuya/python-basic-kadai/blob/main/kadai_005.ipynb\" target=\"_parent\"><img src=\"https://colab.research.google.com/assets/colab-badge.svg\" alt=\"Open In Colab\"/></a>"
      ]
    },
    {
      "cell_type": "code",
      "source": [
        "# 台形の上辺、下辺、高さを定義\n",
        "a = 10\n",
        "b = 20\n",
        "h = 5\n",
        "\n",
        "# 台形の面積を計算\n",
        "面積 = (a + b) * h / 2\n",
        "\n",
        "# 結果を出力\n",
        "print(f\"台形の面積は{面積}cm²です\")\n"
      ],
      "metadata": {
        "id": "4N9te7yWc-lO",
        "outputId": "b480bb28-53be-455e-880e-b9c26d665c71",
        "colab": {
          "base_uri": "https://localhost:8080/"
        }
      },
      "execution_count": 1,
      "outputs": [
        {
          "output_type": "stream",
          "name": "stdout",
          "text": [
            "台形の面積は75.0cm²です\n"
          ]
        }
      ]
    },
    {
      "cell_type": "code",
      "source": [],
      "metadata": {
        "id": "pECW4oyChwEz"
      },
      "execution_count": null,
      "outputs": []
    }
  ]
}