{
  "nbformat": 4,
  "nbformat_minor": 0,
  "metadata": {
    "colab": {
      "provenance": [],
      "authorship_tag": "ABX9TyPiDlQQc2Rf1Q3Pnq1sS3zz",
      "include_colab_link": true
    },
    "kernelspec": {
      "name": "python3",
      "display_name": "Python 3"
    },
    "language_info": {
      "name": "python"
    }
  },
  "cells": [
    {
      "cell_type": "markdown",
      "metadata": {
        "id": "view-in-github",
        "colab_type": "text"
      },
      "source": [
        "<a href=\"https://colab.research.google.com/github/kiyoshibuya/python-basic-kadai/blob/main/kadai_015.ipynb\" target=\"_parent\"><img src=\"https://colab.research.google.com/assets/colab-badge.svg\" alt=\"Open In Colab\"/></a>"
      ]
    },
    {
      "cell_type": "code",
      "source": [
        "class Human:\n",
        "  #コンストラクタを定義する\n",
        "  def __init__(self, name, age):\n",
        "    self.name = name\n",
        "    self.age = age\n",
        "\n",
        "#インスタンス化する\n",
        "human = Human(\"侍花子\", \"20\")\n",
        "\n",
        "#属性にアクセスし、値を出力する\n",
        "print(human.name)\n",
        "print(human.age)\n"
      ],
      "metadata": {
        "colab": {
          "base_uri": "https://localhost:8080/"
        },
        "id": "1tHm1_FAkxA9",
        "outputId": "ad122182-ed68-43c4-93fd-0be3dda866c9"
      },
      "execution_count": 1,
      "outputs": [
        {
          "output_type": "stream",
          "name": "stdout",
          "text": [
            "侍花子\n",
            "20\n"
          ]
        }
      ]
    }
  ]
}