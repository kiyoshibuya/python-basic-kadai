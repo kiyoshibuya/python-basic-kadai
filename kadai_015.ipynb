{
  "nbformat": 4,
  "nbformat_minor": 0,
  "metadata": {
    "colab": {
      "provenance": [],
      "authorship_tag": "ABX9TyNoB6XJ5WsoWQrS5mwqcWsR",
      "include_colab_link": true
    },
    "kernelspec": {
      "name": "python3",
      "display_name": "Python 3"
    },
    "language_info": {
      "name": "python"
    }
  },
  "cells": [
    {
      "cell_type": "markdown",
      "metadata": {
        "id": "view-in-github",
        "colab_type": "text"
      },
      "source": [
        "<a href=\"https://colab.research.google.com/github/kiyoshibuya/python-basic-kadai/blob/main/kadai_015.ipynb\" target=\"_parent\"><img src=\"https://colab.research.google.com/assets/colab-badge.svg\" alt=\"Open In Colab\"/></a>"
      ]
    },
    {
      "cell_type": "code",
      "source": [
        "class Human:\n",
        "  def __init__(self, name, age):\n",
        "    self.name = name\n",
        "    self.age = age\n",
        "\n",
        "  #メソッドを定義する\n",
        "  def set_name(self, name):\n",
        "    self.name = name\n",
        "  def set_age(self, age):\n",
        "    self.age = age\n",
        "\n",
        "  def printinfo_name(self):\n",
        "    print(self.name)\n",
        "  def printinfo_age(self):\n",
        "    print(self.age)\n",
        "\n",
        "#インスタンス化する\n",
        "human = Human(\"侍花子\", 20)\n",
        "\n",
        "#メソッドにアクセスし、値を出力する\n",
        "human.printinfo_name()\n",
        "human.printinfo_age()\n"
      ],
      "metadata": {
        "colab": {
          "base_uri": "https://localhost:8080/"
        },
        "id": "1tHm1_FAkxA9",
        "outputId": "b43357f1-5327-4e02-e9b4-8dab5a54fcdd"
      },
      "execution_count": 6,
      "outputs": [
        {
          "output_type": "stream",
          "name": "stdout",
          "text": [
            "侍花子\n",
            "20\n"
          ]
        }
      ]
    }
  ]
}