{
  "nbformat": 4,
  "nbformat_minor": 0,
  "metadata": {
    "colab": {
      "provenance": [],
      "authorship_tag": "ABX9TyPveg6CJtfgcUe6xJAUkYPI",
      "include_colab_link": true
    },
    "kernelspec": {
      "name": "python3",
      "display_name": "Python 3"
    },
    "language_info": {
      "name": "python"
    }
  },
  "cells": [
    {
      "cell_type": "markdown",
      "metadata": {
        "id": "view-in-github",
        "colab_type": "text"
      },
      "source": [
        "<a href=\"https://colab.research.google.com/github/kiyoshibuya/python-basic-kadai/blob/main/python_excel_kadai3.ipynb\" target=\"_parent\"><img src=\"https://colab.research.google.com/assets/colab-badge.svg\" alt=\"Open In Colab\"/></a>"
      ]
    },
    {
      "cell_type": "code",
      "execution_count": 12,
      "metadata": {
        "id": "utCkKLATEzSf",
        "colab": {
          "base_uri": "https://localhost:8080/"
        },
        "outputId": "8889be06-3eb5-45d3-ea36-0b9dedb5be5f"
      },
      "outputs": [
        {
          "output_type": "stream",
          "name": "stdout",
          "text": [
            "     売上年        商品  金額(千円)\n",
            "0   2022      ハチミツ    1000\n",
            "1   2022      セッケン    1300\n",
            "2   2022        紅茶     800\n",
            "3   2022  アロマキャンドル     900\n",
            "4   2022      ハチミツ     300\n",
            "5   2022      ハチミツ     560\n",
            "6   2022    ワイングラス     850\n",
            "7   2022  アロマキャンドル     810\n",
            "8   2022        包丁     940\n",
            "9   2022        水筒    1150\n",
            "10  2023      ハチミツ    1000\n",
            "11  2023        水筒     250\n",
            "12  2023     コーヒー豆     860\n",
            "13  2023      セッケン    1300\n",
            "14  2023        紅茶     670\n",
            "15  2023  アロマキャンドル     900\n",
            "16  2023    ワイングラス     850\n",
            "17  2023        包丁     940\n",
            "18  2023     フライパン     670\n",
            "19  2023        水筒    1150\n"
          ]
        }
      ],
      "source": [
        "import openpyxl\n",
        "import pandas as pd\n",
        "from openpyxl.styles import PatternFill\n",
        "\n",
        "#処理対象のファイル名のリストを格納\n",
        "file_list = ['2022_年間売上表.xlsx', '2023_年間売上表.xlsx' ]\n",
        "\n",
        "#結合後のデータを格納するための空のデータフレームを作成\n",
        "df = pd.DataFrame()\n",
        "\n",
        "#ファイルを一つずつ処理する\n",
        "for file_name in file_list:\n",
        "  #Excelファイルを読み込む\n",
        "  temp_df = pd.read_excel(file_name, skiprows=1)  # 1行目をスキップする\n",
        "  #データフレームの列名を指定\n",
        "  temp_df.columns = ['売上年', '商品', '金額(千円)']\n",
        "  #concat()でデータフレームを連結\n",
        "  df = pd.concat([df, temp_df], ignore_index=True)\n",
        "\n",
        "print(df)"
      ]
    },
    {
      "cell_type": "code",
      "source": [
        "#商品、売上年ごとに売上金額を合計\n",
        "grouped = df.groupby(['商品', '売上年']).agg({'金額(千円)':'sum'})\n",
        "#Excelファイルを作成する\n",
        "writer = pd.ExcelWriter('売上集計表.xlsx')\n",
        "#DataFrameオブジェクトをExcelファイルに書き込む\n",
        "grouped.to_excel(writer, sheet_name='売上集計', index=True)\n",
        "\n",
        "# ワークブックとワークシートを取得\n",
        "workbook = writer.book\n",
        "worksheet = writer.sheets['売上集計']\n",
        "\n",
        "# ヘッダー部分のセルに薄いグレーの塗りつぶしを設定\n",
        "fill = PatternFill(fill_type='solid', fgColor='F2F2F2')\n",
        "for cell in worksheet['A1:C1']:\n",
        "    for c in cell:\n",
        "        c.fill = fill\n",
        "\n",
        "writer.save()  # 保存する\n",
        "writer.close()  # ファイルを閉じる\n",
        "print(grouped)\n"
      ],
      "metadata": {
        "id": "mgg8CpibxEZS",
        "colab": {
          "base_uri": "https://localhost:8080/"
        },
        "outputId": "f572205a-e880-4c62-eaae-2d84cab9037e"
      },
      "execution_count": 14,
      "outputs": [
        {
          "output_type": "stream",
          "name": "stdout",
          "text": [
            "               金額(千円)\n",
            "商品       売上年         \n",
            "アロマキャンドル 2022    1710\n",
            "         2023     900\n",
            "コーヒー豆    2023     860\n",
            "セッケン     2022    1300\n",
            "         2023    1300\n",
            "ハチミツ     2022    1860\n",
            "         2023    1000\n",
            "フライパン    2023     670\n",
            "ワイングラス   2022     850\n",
            "         2023     850\n",
            "包丁       2022     940\n",
            "         2023     940\n",
            "水筒       2022    1150\n",
            "         2023    1400\n",
            "紅茶       2022     800\n",
            "         2023     670\n"
          ]
        },
        {
          "output_type": "stream",
          "name": "stderr",
          "text": [
            "<ipython-input-14-adc3cf8c2d71>:18: FutureWarning: save is not part of the public API, usage can give unexpected results and will be removed in a future version\n",
            "  writer.save()  # 保存する\n"
          ]
        }
      ]
    },
    {
      "cell_type": "markdown",
      "source": [],
      "metadata": {
        "id": "4BShFgxh0DUM"
      }
    }
  ]
}