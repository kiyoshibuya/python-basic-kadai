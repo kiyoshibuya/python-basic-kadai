{
  "nbformat": 4,
  "nbformat_minor": 0,
  "metadata": {
    "colab": {
      "provenance": [],
      "authorship_tag": "ABX9TyN1acj4bGfMZ6IXdcStBJcH",
      "include_colab_link": true
    },
    "kernelspec": {
      "name": "python3",
      "display_name": "Python 3"
    },
    "language_info": {
      "name": "python"
    }
  },
  "cells": [
    {
      "cell_type": "markdown",
      "metadata": {
        "id": "view-in-github",
        "colab_type": "text"
      },
      "source": [
        "<a href=\"https://colab.research.google.com/github/kiyoshibuya/python-basic-kadai/blob/main/python_excel_kadai1.ipynb\" target=\"_parent\"><img src=\"https://colab.research.google.com/assets/colab-badge.svg\" alt=\"Open In Colab\"/></a>"
      ]
    },
    {
      "cell_type": "code",
      "execution_count": null,
      "metadata": {
        "id": "R80xTqtERFLM"
      },
      "outputs": [],
      "source": [
        "import openpyxl\n",
        "\n",
        "workbook = openpyxl.Workbook()\n",
        "\n",
        "#アクティブなシートを取得する\n",
        "ws = workbook.active\n",
        "ws['B2'] = '請求書'\n",
        "ws['B4'] = '株式会社ABC'\n",
        "ws['B5'] = '〒101-0022 東京都千代田区神田練塀町300'\n",
        "ws['B6'] = 'TEL:03-1234-5678 FAX:03-1234-5678'\n",
        "ws['B7'] = '担当者名:鈴木一郎 様'\n",
        "ws['F4'] = 'No.'\n",
        "ws['F5'] = '日付'\n",
        "ws['G4'] = '0001'\n",
        "\n",
        "#datetimeモジュールのdatetimeクラスをインポートする\n",
        "from datetime import datetime\n",
        "#現在の日付(年月日)を取得して、変数todayに代入する\n",
        "today = datetime.today()\n",
        "\n",
        "ws['G5'] = today.strftime('%Y/%m/%d')\n",
        "\n",
        "ws.append([])\n",
        "ws.append([])\n",
        "header = ['商品名', '数量', '単価', '金額']\n",
        "ws.append(header)\n",
        "\n",
        "data = [\n",
        "    ['商品A', 2, 10000, 20000],\n",
        "    ['商品B', 1, 15000, 15000]\n",
        "]\n",
        "\n",
        "total = 0  # 合計金額の初期値\n",
        "# 商品情報を表に追加\n",
        "for row in data:\n",
        "    ws.append(row)\n",
        "    total += row[3]  # 金額を合計に加算\n",
        "\n",
        "# 合計行を追加\n",
        "ws.append(['', '', '小計', total])\n",
        "ws.append(['', '', '消費税', int(total * 0.1)])  # 消費税率は10%と仮定\n",
        "ws.append(['', '', '合計', total + int(total * 0.1)])\n",
        "\n",
        "# ワークブックを保存\n",
        "backup_filename = f\"請求書_{today.strftime('%Y%m%d')}.xlsx\"\n",
        "workbook.save(backup_filename)\n"
      ]
    },
    {
      "cell_type": "markdown",
      "source": [],
      "metadata": {
        "id": "0l4tCpLvFGjH"
      }
    },
    {
      "cell_type": "code",
      "source": [],
      "metadata": {
        "id": "Omayrwjs5ER1"
      },
      "execution_count": null,
      "outputs": []
    }
  ]
}